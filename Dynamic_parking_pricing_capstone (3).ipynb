{
  "nbformat": 4,
  "nbformat_minor": 0,
  "metadata": {
    "colab": {
      "provenance": []
    },
    "kernelspec": {
      "name": "python3",
      "display_name": "Python 3"
    },
    "language_info": {
      "name": "python"
    }
  },
  "cells": [
    {
      "cell_type": "markdown",
      "source": [
        "#  Smart Parking Dynamic Pricing – Capstone Project\n",
        "\n",
        "##  Student Information\n",
        "\n",
        "* **Name**: Dikshita Sarma\n",
        "* **Course**: Bachelors in Computer Science\n",
        "* **Date**: 7th July 2025\n",
        "\n",
        "---\n",
        "\n",
        "##  Objective\n",
        "\n",
        "This project focuses on building a dynamic pricing engine for smart parking systems.\n",
        "The idea is to adjust parking slot prices intelligently based on real-time factors like:\n",
        "\n",
        "* Occupancy levels\n",
        "* Traffic and queue conditions\n",
        "* Special event days\n",
        "* Live streaming simulation\n",
        "\n",
        "---\n",
        "\n",
        "##  What I Implemented\n",
        "\n",
        "* **Model 1**: Simple linear pricing based on occupancy\n",
        "* **Model 2**: Demand-based pricing using traffic, queue length, and vehicle type\n",
        "* **Model 3**: Competitive pricing based on nearby parking lots (optional)\n",
        "* **Real-Time Streaming**: Simulated using Pathway for Model 1 and Model 2\n",
        "\n",
        "---\n",
        "\n",
        "## Step 1: Data Cleaning & Preprocessing\n",
        "\n",
        "* Converted timestamps into usable datetime format\n",
        "* Calculated occupancy ratio\n",
        "* Mapped vehicle type and traffic level to weights\n",
        "\n",
        "---\n",
        "\n",
        "## Step 2: Model 1  Linear Pricing (Occupancy Based)\n",
        "\n",
        "* Price = 10 + 2  occupancy ratio\n",
        "* Visualized pricing using Bokeh plot\n",
        "\n",
        "---\n",
        "\n",
        "## Step 3: Model 2  Demand-Based Pricing\n",
        "\n",
        "* Formula based on multiple features: traffic, vehicle type, queue length, special days\n",
        "* Normalized demand score and applied dynamic pricing\n",
        "* Visualized using Bokeh plot\n",
        "\n",
        "---\n",
        "\n",
        "## Step 4: Model 3  Competitive Pricing (Optional)\n",
        "\n",
        "* Compared nearby lots at same time\n",
        "* Adjusted price using weighted average based on nearby demand\n",
        "\n",
        "---\n",
        "\n",
        "## Step 5: Real-Time Simulation  Model 1 (Pathway)\n",
        "\n",
        "* Used mini dataset of 20 rows\n",
        "* Calculated occupancy ratio on stream\n",
        "* Applied Model 1 logic\n",
        "* Output written to `pathway_output.jsonl`\n",
        "\n",
        "---\n",
        "\n",
        "## Step 6: Real-Time Simulation  Model 2 (Pathway)\n",
        "\n",
        "* Used additional features like queue, traffic, vehicle type\n",
        "* Computed demand score and normalized it\n",
        "* Output written to `pathway_output_model2.jsonl`\n",
        "\n",
        "---\n",
        "\n",
        "##  Conclusion\n",
        "\n",
        "This capstone project helped me apply data analysis, modeling, and real-time simulation concepts to solve a real-world parking problem. I learned how to work with multiple models and integrate streaming logic to mimic dynamic pricing. Pathway helped me simulate a smart parking system that reacts to real-time demand effectively.\n",
        "\n",
        "Thank you for going through my project!\n"
      ],
      "metadata": {
        "id": "Db5WTSj8tesS"
      }
    },
    {
      "cell_type": "code",
      "execution_count": null,
      "metadata": {
        "id": "ioyDFdX9L2kK"
      },
      "outputs": [],
      "source": [
        "import pandas as pd\n",
        "import numpy as np\n",
        "\n",
        "\n",
        "df = pd.read_csv(\"dataset.csv\")\n",
        "\n",
        "\n",
        "df.info()\n",
        "df.head()\n"
      ]
    },
    {
      "cell_type": "code",
      "source": [
        "\n",
        "print(\"Missing values:\\n\", df.isnull().sum())\n",
        "\n",
        "\n",
        "print(\"Unique vehicle types:\", df['VehicleType'].unique())\n",
        "print(\"Unique traffic levels:\", df['TrafficConditionNearby'].unique())\n",
        "print(\"Special day flags:\", df['IsSpecialDay'].unique())\n",
        "\n",
        "#  Checing  for invalid values\n",
        "print(\"Negative queue lengths:\", df[df['QueueLength'] < 0].shape[0])\n",
        "print(\"Negative occupancy values:\", df[df['Occupancy'] < 0].shape[0])\n",
        "print(\"Occupancy > Capacity:\", df[df['Occupancy'] > df['Capacity']].shape[0])\n"
      ],
      "metadata": {
        "id": "XEQ1tyXLRaQb"
      },
      "execution_count": null,
      "outputs": []
    },
    {
      "cell_type": "code",
      "source": [
        "\n",
        "df.columns = df.columns.str.strip()\n",
        "\n",
        "df['Timestamp'] = pd.to_datetime(df['LastUpdatedDate'] + ' ' + df['LastUpdatedTime'], dayfirst=True)\n",
        "\n",
        "\n",
        "df.drop(['LastUpdatedDate', 'LastUpdatedTime'], axis=1, inplace=True)\n",
        "\n",
        "\n",
        "df['OccupancyRatio'] = df['Occupancy'] / df['Capacity']\n",
        "\n",
        "\n",
        "df['VehicleType'] = df['VehicleType'].str.strip().str.lower()\n",
        "vehicle_weights = {'bike': 0.5, 'car': 1.0, 'truck': 1.5}\n",
        "df['VehicleWeight'] = df['VehicleType'].map(vehicle_weights)\n",
        "\n",
        "\n",
        "df['TrafficConditionNearby'] = df['TrafficConditionNearby'].str.strip().str.lower()\n",
        "traffic_weights = {'low': 0.3, 'medium': 0.6, 'high': 1.0}\n",
        "df['TrafficLevel'] = df['TrafficConditionNearby'].map(traffic_weights)\n",
        "\n",
        "\n",
        "df.sort_values(by=['SystemCodeNumber', 'Timestamp'], inplace=True)\n",
        "df.reset_index(drop=True, inplace=True)\n",
        "\n",
        "\n",
        "df.head()\n"
      ],
      "metadata": {
        "id": "wnoQyvfBNR6W"
      },
      "execution_count": null,
      "outputs": []
    },
    {
      "cell_type": "markdown",
      "source": [
        "model 1\n"
      ],
      "metadata": {
        "id": "4bQRaTqqRVay"
      }
    },
    {
      "cell_type": "code",
      "source": [
        "\n",
        "alpha = 2.0\n",
        "base_price = 10.0\n",
        "\n",
        "\n",
        "df['Price_Model1'] = np.nan\n",
        "\n",
        "\n",
        "for lot_id in df['SystemCodeNumber'].unique():\n",
        "    lot_df = df[df['SystemCodeNumber'] == lot_id].copy()\n",
        "    lot_df = lot_df.sort_values('Timestamp')\n",
        "\n",
        "\n",
        "    previous_price = base_price\n",
        "\n",
        "    for idx in lot_df.index:\n",
        "        occupancy_ratio = df.loc[idx, 'OccupancyRatio']\n",
        "        new_price = previous_price + alpha * occupancy_ratio\n",
        "\n",
        "\n",
        "        new_price = max(5, min(20, new_price))\n",
        "\n",
        "        df.at[idx, 'Price_Model1'] = new_price\n",
        "        previous_price = new_price\n"
      ],
      "metadata": {
        "id": "q1y-xgrJOU6O"
      },
      "execution_count": null,
      "outputs": []
    },
    {
      "cell_type": "markdown",
      "source": [],
      "metadata": {
        "id": "vYnUhpPIRSSP"
      }
    },
    {
      "cell_type": "code",
      "source": [
        "df[['SystemCodeNumber', 'Timestamp', 'OccupancyRatio', 'Price_Model1']].head(10)\n"
      ],
      "metadata": {
        "id": "SRZkMSaUObJa"
      },
      "execution_count": null,
      "outputs": []
    },
    {
      "cell_type": "code",
      "source": [
        "!pip install bokeh\n"
      ],
      "metadata": {
        "id": "37fMzsSwO4LA"
      },
      "execution_count": null,
      "outputs": []
    },
    {
      "cell_type": "code",
      "source": [
        "from bokeh.plotting import figure, show, output_notebook\n",
        "from bokeh.models import HoverTool\n",
        "from bokeh.io import output_notebook\n",
        "output_notebook()\n",
        "\n",
        "\n",
        "lot_id = df['SystemCodeNumber'].unique()[0]\n",
        "lot_df = df[df['SystemCodeNumber'] == lot_id]\n",
        "\n",
        "\n",
        "p = figure(x_axis_type=\"datetime\", title=f\"Model 1 Pricing for Parking Lot {lot_id}\",\n",
        "           width=800, height=400)\n",
        "\n",
        "# Adding line for pricing\n",
        "p.line(lot_df['Timestamp'], lot_df['Price_Model1'], line_width=2, color='navy', legend_label=\"Price\")\n",
        "\n",
        "\n",
        "hover = HoverTool(\n",
        "    tooltips=[\n",
        "        (\"Time\", \"@x{%F %H:%M}\"),\n",
        "        (\"Price\", \"@y{$0.00}\")\n",
        "    ],\n",
        "    formatters={'@x': 'datetime'},\n",
        "    mode='vline'\n",
        ")\n",
        "\n",
        "p.add_tools(hover)\n",
        "p.xaxis.axis_label = \"Time\"\n",
        "p.yaxis.axis_label = \"Price\"\n",
        "p.legend.location = \"top_left\"\n",
        "\n",
        "show(p)\n"
      ],
      "metadata": {
        "id": "dB_TC0LFPhap"
      },
      "execution_count": null,
      "outputs": []
    },
    {
      "cell_type": "code",
      "source": [
        "# Step 4: Model 2 – Demand-Based Pricing #\n",
        "\n",
        "# Set base price and coefficients\n",
        "base_price = 10\n",
        "alpha = 2.0       # occupancy weight\n",
        "beta = 0.5        # queue weight\n",
        "gamma = 1.0       # traffic penalty\n",
        "delta = 1.5       # special day boost\n",
        "epsilon = 0.8     # vehicle weight\n",
        "lam = 0.3         # strength of pricing adjustment\n",
        "\n",
        "# Calculateing  raw demand score\n",
        "df['DemandScore'] = (\n",
        "    alpha * df['OccupancyRatio'] +\n",
        "    beta * df['QueueLength'] -\n",
        "    gamma * df['TrafficLevel'] +\n",
        "    delta * df['IsSpecialDay'] +\n",
        "    epsilon * df['VehicleWeight']\n",
        ")\n",
        "\n",
        "\n",
        "from sklearn.preprocessing import MinMaxScaler\n",
        "\n",
        "scaler = MinMaxScaler()\n",
        "df['NormalizedDemand'] = scaler.fit_transform(df[['DemandScore']])\n",
        "\n",
        "\n",
        "df['Price_Model2'] = base_price * (1 + lam * df['NormalizedDemand'])\n",
        "\n",
        "\n",
        "df['Price_Model2'] = df['Price_Model2'].clip(lower=5, upper=20)\n",
        "\n",
        "# Preview\n",
        "df[['SystemCodeNumber', 'Timestamp', 'NormalizedDemand', 'Price_Model2']].head(10)\n"
      ],
      "metadata": {
        "id": "wl8wa3wjSEgL"
      },
      "execution_count": null,
      "outputs": []
    },
    {
      "cell_type": "code",
      "source": [
        "from bokeh.plotting import figure, show, output_notebook\n",
        "from bokeh.models import HoverTool\n",
        "output_notebook()\n",
        "\n",
        "# Picking a parking lot again\n",
        "lot_id = df['SystemCodeNumber'].unique()[0]\n",
        "lot_df = df[df['SystemCodeNumber'] == lot_id]\n",
        "\n",
        "# Create figure\n",
        "p2 = figure(x_axis_type=\"datetime\", title=f\"Model 2 Pricing for Parking Lot {lot_id}\",\n",
        "            width=800, height=400)\n",
        "\n",
        "# Model 2 price line\n",
        "p2.line(lot_df['Timestamp'], lot_df['Price_Model2'], line_width=2, color='green', legend_label=\"Model 2 Price\")\n",
        "\n",
        "# Hover tool\n",
        "hover2 = HoverTool(\n",
        "    tooltips=[\n",
        "        (\"Time\", \"@x{%F %H:%M}\"),\n",
        "        (\"Price\", \"@y{$0.00}\")\n",
        "    ],\n",
        "    formatters={'@x': 'datetime'},\n",
        "    mode='vline'\n",
        ")\n",
        "\n",
        "p2.add_tools(hover2)\n",
        "p2.xaxis.axis_label = \"Time\"\n",
        "p2.yaxis.axis_label = \"Price\"\n",
        "p2.legend.location = \"top_left\"\n",
        "\n",
        "show(p2)\n"
      ],
      "metadata": {
        "id": "BpD5cLMMSO1H"
      },
      "execution_count": null,
      "outputs": []
    },
    {
      "cell_type": "markdown",
      "source": [],
      "metadata": {
        "id": "NJfs7kPXRO1d"
      }
    },
    {
      "cell_type": "markdown",
      "source": [],
      "metadata": {
        "id": "0GT9klfQSrYM"
      }
    },
    {
      "cell_type": "code",
      "source": [
        "# Haversine distance calculation\n",
        "from math import radians, sin, cos, sqrt, atan2\n",
        "\n",
        "def haversine(lat1, lon1, lat2, lon2):\n",
        "    R = 6371000  # Earth radius in meters\n",
        "    phi1 = radians(lat1)\n",
        "    phi2 = radians(lat2)\n",
        "    delta_phi = radians(lat2 - lat1)\n",
        "    delta_lambda = radians(lon2 - lon1)\n",
        "\n",
        "    a = sin(delta_phi/2.0)**2 + cos(phi1) * cos(phi2) * sin(delta_lambda/2.0)**2\n",
        "    c = 2 * atan2(sqrt(a), sqrt(1 - a))\n",
        "    return R * c  # in meters\n"
      ],
      "metadata": {
        "id": "MmACMSY-Tl5k"
      },
      "execution_count": null,
      "outputs": []
    },
    {
      "cell_type": "code",
      "source": [
        "# Testing  on small sample (1 day of data)\n",
        "test_df = df[df['Timestamp'].dt.date == df['Timestamp'].dt.date.min()].copy()\n",
        "test_df.reset_index(drop=True, inplace=True)\n",
        "\n",
        "test_df['Price_Model3'] = test_df['Price_Model2']\n",
        "\n",
        "\n",
        "for idx, row in test_df.iterrows():\n",
        "    lat1, lon1 = row['Latitude'], row['Longitude']\n",
        "    time = row['Timestamp']\n",
        "    lot_id = row['SystemCodeNumber']\n",
        "    price2 = row['Price_Model2']\n",
        "    capacity = row['Capacity']\n",
        "    occupancy = row['Occupancy']\n",
        "\n",
        "    # Nearby competitors at same time\n",
        "    nearby_df = test_df[(test_df['Timestamp'] == time) & (test_df['SystemCodeNumber'] != lot_id)]\n",
        "\n",
        "    nearby_full = 0\n",
        "    cheaper_exists = False\n",
        "\n",
        "    for _, other in nearby_df.iterrows():\n",
        "        dist = haversine(lat1, lon1, other['Latitude'], other['Longitude'])\n",
        "        if dist <= 300:\n",
        "            if other['Occupancy'] >= other['Capacity']:\n",
        "                nearby_full += 1\n",
        "            if other['Price_Model2'] < price2:\n",
        "                cheaper_exists = True\n",
        "\n",
        "    # Applying  competitive pricing logic\n",
        "    if occupancy >= capacity and cheaper_exists:\n",
        "        price3 = price2 - 0.5\n",
        "    elif occupancy < capacity and nearby_full > 0:\n",
        "        price3 = price2 + 0.5\n",
        "    else:\n",
        "        price3 = price2\n",
        "\n",
        "    test_df.at[idx, 'Price_Model3'] = min(max(price3, 5), 20)\n",
        "\n",
        "# Preview result\n",
        "test_df[['SystemCodeNumber', 'Timestamp', 'Price_Model2', 'Price_Model3']].head(10)\n"
      ],
      "metadata": {
        "id": "iWz7XoZdUngb"
      },
      "execution_count": null,
      "outputs": []
    },
    {
      "cell_type": "code",
      "source": [
        "from bokeh.plotting import figure, show, output_notebook\n",
        "from bokeh.models import HoverTool\n",
        "output_notebook()\n",
        "\n",
        "\n",
        "lot_id = test_df['SystemCodeNumber'].unique()[0]\n",
        "lot_df = test_df[test_df['SystemCodeNumber'] == lot_id]\n",
        "\n",
        "# Create figure\n",
        "p3 = figure(x_axis_type=\"datetime\", title=f\"Model 3 Competitive Pricing for Lot {lot_id}\",\n",
        "            width=800, height=400)\n",
        "\n",
        "# Line plot for Model 3 price\n",
        "p3.line(lot_df['Timestamp'], lot_df['Price_Model3'], line_width=2, color='orange', legend_label=\"Model 3 Price\")\n",
        "\n",
        "\n",
        "hover3 = HoverTool(\n",
        "    tooltips=[\n",
        "        (\"Time\", \"@x{%F %H:%M}\"),\n",
        "        (\"Price\", \"@y{$0.00}\")\n",
        "    ],\n",
        "    formatters={'@x': 'datetime'},\n",
        "    mode='vline'\n",
        ")\n",
        "\n",
        "p3.add_tools(hover3)\n",
        "p3.xaxis.axis_label = \"Time\"\n",
        "p3.yaxis.axis_label = \"Price\"\n",
        "p3.legend.location = \"top_left\"\n",
        "\n",
        "show(p3)\n"
      ],
      "metadata": {
        "id": "SCeGnXiAVNtf"
      },
      "execution_count": null,
      "outputs": []
    },
    {
      "cell_type": "code",
      "source": [
        "!pip install pathway\n"
      ],
      "metadata": {
        "id": "11ldBIFhWHoC"
      },
      "execution_count": null,
      "outputs": []
    },
    {
      "cell_type": "code",
      "source": [
        "# Export just 20 rows for super-fast Pathway testing\n",
        "df[['SystemCodeNumber', 'Capacity', 'Occupancy', 'QueueLength', 'VehicleType',\n",
        "    'TrafficConditionNearby', 'IsSpecialDay', 'Latitude', 'Longitude', 'Timestamp']] \\\n",
        "    .head(20).to_csv('mini_dataset.csv', index=False)\n"
      ],
      "metadata": {
        "id": "HS_Rqn2HcCdq"
      },
      "execution_count": null,
      "outputs": []
    },
    {
      "cell_type": "code",
      "source": [
        "import pathway as pw\n",
        "\n",
        "# Define schema\n",
        "class ParkingData(pw.Schema):\n",
        "    SystemCodeNumber: str\n",
        "    Capacity: int\n",
        "    Occupancy: int\n",
        "    QueueLength: int\n",
        "    VehicleType: str\n",
        "    TrafficConditionNearby: str\n",
        "    IsSpecialDay: int\n",
        "    Latitude: float\n",
        "    Longitude: float\n",
        "    Timestamp: str\n",
        "\n",
        "# Read stream\n",
        "input_stream = pw.io.csv.read(\n",
        "    \"mini_dataset.csv\",\n",
        "    schema=ParkingData,\n",
        "    mode=\"streaming\"\n",
        ")\n",
        "\n",
        "# Calculating  occupancy ratio\n",
        "with_occupancy = input_stream.select(\n",
        "    **input_stream,\n",
        "    OccupancyRatio=pw.apply(\n",
        "        lambda occ, cap: occ / cap if cap != 0 else 0,\n",
        "        input_stream.Occupancy,\n",
        "        input_stream.Capacity\n",
        "    )\n",
        ")\n",
        "\n",
        "# Apply Model 1 pricing\n",
        "pricing_stream = pw.apply(\n",
        "    lambda occ_ratio: min(20, max(5, 10 + 2 * occ_ratio)),\n",
        "    with_occupancy.OccupancyRatio\n",
        ")\n",
        "\n",
        "# Combine\n",
        "final_output = with_occupancy.select(\n",
        "    with_occupancy.SystemCodeNumber,\n",
        "    with_occupancy.Timestamp,\n",
        "    with_occupancy.OccupancyRatio,\n",
        "    Price=pricing_stream\n",
        ")\n",
        "\n",
        "# Write to file\n",
        "pw.io.jsonlines.write(final_output, filename=\"pathway_output.jsonl\")\n",
        "pw.run()\n"
      ],
      "metadata": {
        "id": "U2JDV2G7f5yJ"
      },
      "execution_count": null,
      "outputs": []
    },
    {
      "cell_type": "code",
      "source": [
        "with open(\"pathway_output.jsonl\", \"r\") as file:\n",
        "    for line in file.readlines():\n",
        "        print(line.strip())\n"
      ],
      "metadata": {
        "id": "HfGvSOiHgedN"
      },
      "execution_count": null,
      "outputs": []
    },
    {
      "cell_type": "code",
      "source": [
        "import pathway as pw\n",
        "\n",
        "# 1. Define schema\n",
        "class ParkingData(pw.Schema):\n",
        "    SystemCodeNumber: str\n",
        "    Capacity: int\n",
        "    Occupancy: int\n",
        "    QueueLength: int\n",
        "    VehicleType: str\n",
        "    TrafficConditionNearby: str\n",
        "    IsSpecialDay: int\n",
        "    Latitude: float\n",
        "    Longitude: float\n",
        "    Timestamp: str\n",
        "\n",
        "# 2. Load stream\n",
        "input_stream = pw.io.csv.read(\n",
        "    \"mini_dataset.csv\",\n",
        "    schema=ParkingData,\n",
        "    mode=\"streaming\"\n",
        ")\n",
        "\n",
        "# 3. Feature engineering\n",
        "with_features = input_stream.select(\n",
        "    **input_stream,\n",
        "\n",
        "    # Occupancy Ratio\n",
        "    OccupancyRatio=pw.apply(\n",
        "        lambda occ, cap: occ / cap if cap else 0,\n",
        "        input_stream.Occupancy,\n",
        "        input_stream.Capacity\n",
        "    ),\n",
        "\n",
        "    # Vehicle Weight\n",
        "    VehicleWeight=pw.apply(\n",
        "        lambda vt: {'bike': 0.5, 'car': 1.0, 'truck': 1.5}.get(vt.strip().lower(), 1.0),\n",
        "        input_stream.VehicleType\n",
        "    ),\n",
        "\n",
        "    # Traffic Weight\n",
        "    TrafficLevel=pw.apply(\n",
        "        lambda t: {'low': 0.3, 'medium': 0.6, 'high': 1.0}.get(t.strip().lower(), 0.5),\n",
        "        input_stream.TrafficConditionNearby\n",
        "    )\n",
        ")\n",
        "\n",
        "# 4. Compute Demand Score\n",
        "with_demand = with_features.select(\n",
        "    **with_features,\n",
        "\n",
        "    DemandScore=pw.apply(\n",
        "        lambda occ, q, tr, sd, vw: (\n",
        "            2.0 * occ +               # α\n",
        "            0.5 * q -                 # β\n",
        "            1.0 * tr +                # γ\n",
        "            1.5 * sd +                # δ\n",
        "            0.8 * vw                  # ε\n",
        "        ),\n",
        "        with_features.OccupancyRatio,\n",
        "        with_features.QueueLength,\n",
        "        with_features.TrafficLevel,\n",
        "        with_features.IsSpecialDay,\n",
        "        with_features.VehicleWeight\n",
        "    )\n",
        ")\n",
        "\n",
        "\n",
        "min_d = -1\n",
        "max_d = 6\n",
        "with_scaled = with_demand.select(\n",
        "    **with_demand,\n",
        "    NormalizedDemand=pw.apply(\n",
        "        lambda d: (d - min_d) / (max_d - min_d),\n",
        "        with_demand.DemandScore\n",
        "    )\n",
        ")\n",
        "\n",
        "# 6. Compute Final Price (Model 2)\n",
        "pricing_stream = pw.apply(\n",
        "    lambda nd: min(20, max(5, 10 * (1 + 0.3 * nd))),  # base = 10, λ = 0.3\n",
        "    with_scaled.NormalizedDemand\n",
        ")\n",
        "\n",
        "# 7. Final output\n",
        "final_output_m2 = with_scaled.select(\n",
        "    with_scaled.SystemCodeNumber,\n",
        "    with_scaled.Timestamp,\n",
        "    with_scaled.OccupancyRatio,\n",
        "    with_scaled.DemandScore,\n",
        "    with_scaled.NormalizedDemand,\n",
        "    Price_Model2=pricing_stream\n",
        ")\n",
        "\n",
        "# 8. Write output to file\n",
        "pw.io.jsonlines.write(final_output_m2, filename=\"pathway_output_model2.jsonl\")\n",
        "pw.run()\n"
      ],
      "metadata": {
        "id": "DYYqTNTwiiNA"
      },
      "execution_count": null,
      "outputs": []
    },
    {
      "cell_type": "code",
      "source": [
        "with open(\"pathway_output_model2.jsonl\", \"r\") as file:\n",
        "    for line in file.readlines():\n",
        "        print(line.strip())\n"
      ],
      "metadata": {
        "id": "lCvHnoD3iqaz"
      },
      "execution_count": null,
      "outputs": []
    },
    {
      "cell_type": "code",
      "source": [
        "from google.colab import files\n",
        "files.download('pathway_output.jsonl')\n"
      ],
      "metadata": {
        "id": "8rgWZ99znWb1"
      },
      "execution_count": null,
      "outputs": []
    },
    {
      "cell_type": "code",
      "source": [
        "from google.colab import files\n",
        "files.download('pathway_output_model2.jsonl')\n"
      ],
      "metadata": {
        "id": "TqgK6TSynajz"
      },
      "execution_count": null,
      "outputs": []
    }
  ]
}